{
 "cells": [
  {
   "cell_type": "markdown",
   "metadata": {},
   "source": [
    "# Blog Post: Deep Music Genre Classification\n",
    "Well, I've been hoping to do a deep learning blog post all semester, so I'm really excited to give this one a shot! The first step will be to properly format the data, and then perform text vectorization, since lyrics are words, which cannot function as features. Then, I will collate batches. Finally, I will be prepared to create a model and evaluate its accuracy. I will create 3 models, one learning from just the lyrics, one learning from just the features, and one learning from both. Once the models have successfully performed better than the base rate, I will compare the accuracy across the three models to see which one would be the most promising to continue to work with."
   ]
  },
  {
   "cell_type": "code",
   "execution_count": 66,
   "metadata": {},
   "outputs": [],
   "source": [
    "import pandas as pd\n",
    "\n",
    "url = \"https://raw.githubusercontent.com/PhilChodrow/PIC16B/master/datasets/tcc_ceds_music.csv\"\n",
    "df = pd.read_csv(url)"
   ]
  },
  {
   "cell_type": "code",
   "execution_count": 67,
   "metadata": {},
   "outputs": [
    {
     "data": {
      "text/html": [
       "<div>\n",
       "<style scoped>\n",
       "    .dataframe tbody tr th:only-of-type {\n",
       "        vertical-align: middle;\n",
       "    }\n",
       "\n",
       "    .dataframe tbody tr th {\n",
       "        vertical-align: top;\n",
       "    }\n",
       "\n",
       "    .dataframe thead th {\n",
       "        text-align: right;\n",
       "    }\n",
       "</style>\n",
       "<table border=\"1\" class=\"dataframe\">\n",
       "  <thead>\n",
       "    <tr style=\"text-align: right;\">\n",
       "      <th></th>\n",
       "      <th>Unnamed: 0</th>\n",
       "      <th>artist_name</th>\n",
       "      <th>track_name</th>\n",
       "      <th>release_date</th>\n",
       "      <th>genre</th>\n",
       "      <th>lyrics</th>\n",
       "      <th>len</th>\n",
       "      <th>dating</th>\n",
       "      <th>violence</th>\n",
       "      <th>world/life</th>\n",
       "      <th>...</th>\n",
       "      <th>sadness</th>\n",
       "      <th>feelings</th>\n",
       "      <th>danceability</th>\n",
       "      <th>loudness</th>\n",
       "      <th>acousticness</th>\n",
       "      <th>instrumentalness</th>\n",
       "      <th>valence</th>\n",
       "      <th>energy</th>\n",
       "      <th>topic</th>\n",
       "      <th>age</th>\n",
       "    </tr>\n",
       "  </thead>\n",
       "  <tbody>\n",
       "    <tr>\n",
       "      <th>0</th>\n",
       "      <td>0</td>\n",
       "      <td>mukesh</td>\n",
       "      <td>mohabbat bhi jhoothi</td>\n",
       "      <td>1950</td>\n",
       "      <td>pop</td>\n",
       "      <td>hold time feel break feel untrue convince spea...</td>\n",
       "      <td>95</td>\n",
       "      <td>0.000598</td>\n",
       "      <td>0.063746</td>\n",
       "      <td>0.000598</td>\n",
       "      <td>...</td>\n",
       "      <td>0.380299</td>\n",
       "      <td>0.117175</td>\n",
       "      <td>0.357739</td>\n",
       "      <td>0.454119</td>\n",
       "      <td>0.997992</td>\n",
       "      <td>0.901822</td>\n",
       "      <td>0.339448</td>\n",
       "      <td>0.137110</td>\n",
       "      <td>sadness</td>\n",
       "      <td>1.0</td>\n",
       "    </tr>\n",
       "    <tr>\n",
       "      <th>1</th>\n",
       "      <td>4</td>\n",
       "      <td>frankie laine</td>\n",
       "      <td>i believe</td>\n",
       "      <td>1950</td>\n",
       "      <td>pop</td>\n",
       "      <td>believe drop rain fall grow believe darkest ni...</td>\n",
       "      <td>51</td>\n",
       "      <td>0.035537</td>\n",
       "      <td>0.096777</td>\n",
       "      <td>0.443435</td>\n",
       "      <td>...</td>\n",
       "      <td>0.001284</td>\n",
       "      <td>0.001284</td>\n",
       "      <td>0.331745</td>\n",
       "      <td>0.647540</td>\n",
       "      <td>0.954819</td>\n",
       "      <td>0.000002</td>\n",
       "      <td>0.325021</td>\n",
       "      <td>0.263240</td>\n",
       "      <td>world/life</td>\n",
       "      <td>1.0</td>\n",
       "    </tr>\n",
       "    <tr>\n",
       "      <th>2</th>\n",
       "      <td>6</td>\n",
       "      <td>johnnie ray</td>\n",
       "      <td>cry</td>\n",
       "      <td>1950</td>\n",
       "      <td>pop</td>\n",
       "      <td>sweetheart send letter goodbye secret feel bet...</td>\n",
       "      <td>24</td>\n",
       "      <td>0.002770</td>\n",
       "      <td>0.002770</td>\n",
       "      <td>0.002770</td>\n",
       "      <td>...</td>\n",
       "      <td>0.002770</td>\n",
       "      <td>0.225422</td>\n",
       "      <td>0.456298</td>\n",
       "      <td>0.585288</td>\n",
       "      <td>0.840361</td>\n",
       "      <td>0.000000</td>\n",
       "      <td>0.351814</td>\n",
       "      <td>0.139112</td>\n",
       "      <td>music</td>\n",
       "      <td>1.0</td>\n",
       "    </tr>\n",
       "    <tr>\n",
       "      <th>3</th>\n",
       "      <td>10</td>\n",
       "      <td>pérez prado</td>\n",
       "      <td>patricia</td>\n",
       "      <td>1950</td>\n",
       "      <td>pop</td>\n",
       "      <td>kiss lips want stroll charm mambo chacha merin...</td>\n",
       "      <td>54</td>\n",
       "      <td>0.048249</td>\n",
       "      <td>0.001548</td>\n",
       "      <td>0.001548</td>\n",
       "      <td>...</td>\n",
       "      <td>0.225889</td>\n",
       "      <td>0.001548</td>\n",
       "      <td>0.686992</td>\n",
       "      <td>0.744404</td>\n",
       "      <td>0.083935</td>\n",
       "      <td>0.199393</td>\n",
       "      <td>0.775350</td>\n",
       "      <td>0.743736</td>\n",
       "      <td>romantic</td>\n",
       "      <td>1.0</td>\n",
       "    </tr>\n",
       "    <tr>\n",
       "      <th>4</th>\n",
       "      <td>12</td>\n",
       "      <td>giorgos papadopoulos</td>\n",
       "      <td>apopse eida oneiro</td>\n",
       "      <td>1950</td>\n",
       "      <td>pop</td>\n",
       "      <td>till darling till matter know till dream live ...</td>\n",
       "      <td>48</td>\n",
       "      <td>0.001350</td>\n",
       "      <td>0.001350</td>\n",
       "      <td>0.417772</td>\n",
       "      <td>...</td>\n",
       "      <td>0.068800</td>\n",
       "      <td>0.001350</td>\n",
       "      <td>0.291671</td>\n",
       "      <td>0.646489</td>\n",
       "      <td>0.975904</td>\n",
       "      <td>0.000246</td>\n",
       "      <td>0.597073</td>\n",
       "      <td>0.394375</td>\n",
       "      <td>romantic</td>\n",
       "      <td>1.0</td>\n",
       "    </tr>\n",
       "  </tbody>\n",
       "</table>\n",
       "<p>5 rows × 31 columns</p>\n",
       "</div>"
      ],
      "text/plain": [
       "   Unnamed: 0           artist_name            track_name  release_date genre  \\\n",
       "0           0                mukesh  mohabbat bhi jhoothi          1950   pop   \n",
       "1           4         frankie laine             i believe          1950   pop   \n",
       "2           6           johnnie ray                   cry          1950   pop   \n",
       "3          10           pérez prado              patricia          1950   pop   \n",
       "4          12  giorgos papadopoulos    apopse eida oneiro          1950   pop   \n",
       "\n",
       "                                              lyrics  len    dating  violence  \\\n",
       "0  hold time feel break feel untrue convince spea...   95  0.000598  0.063746   \n",
       "1  believe drop rain fall grow believe darkest ni...   51  0.035537  0.096777   \n",
       "2  sweetheart send letter goodbye secret feel bet...   24  0.002770  0.002770   \n",
       "3  kiss lips want stroll charm mambo chacha merin...   54  0.048249  0.001548   \n",
       "4  till darling till matter know till dream live ...   48  0.001350  0.001350   \n",
       "\n",
       "   world/life  ...   sadness  feelings  danceability  loudness  acousticness  \\\n",
       "0    0.000598  ...  0.380299  0.117175      0.357739  0.454119      0.997992   \n",
       "1    0.443435  ...  0.001284  0.001284      0.331745  0.647540      0.954819   \n",
       "2    0.002770  ...  0.002770  0.225422      0.456298  0.585288      0.840361   \n",
       "3    0.001548  ...  0.225889  0.001548      0.686992  0.744404      0.083935   \n",
       "4    0.417772  ...  0.068800  0.001350      0.291671  0.646489      0.975904   \n",
       "\n",
       "   instrumentalness   valence    energy       topic  age  \n",
       "0          0.901822  0.339448  0.137110     sadness  1.0  \n",
       "1          0.000002  0.325021  0.263240  world/life  1.0  \n",
       "2          0.000000  0.351814  0.139112       music  1.0  \n",
       "3          0.199393  0.775350  0.743736    romantic  1.0  \n",
       "4          0.000246  0.597073  0.394375    romantic  1.0  \n",
       "\n",
       "[5 rows x 31 columns]"
      ]
     },
     "execution_count": 67,
     "metadata": {},
     "output_type": "execute_result"
    }
   ],
   "source": [
    "df.head()"
   ]
  },
  {
   "cell_type": "code",
   "execution_count": 68,
   "metadata": {},
   "outputs": [],
   "source": [
    "engineered_features = ['dating', 'violence', 'world/life', 'night/time','shake the audience','family/gospel', 'romantic', 'communication','obscene', 'music', 'movement/places', 'light/visual perceptions','family/spiritual', 'like/girls', 'sadness', 'feelings', 'danceability','loudness', 'acousticness', 'instrumentalness', 'valence', 'energy'] "
   ]
  },
  {
   "cell_type": "markdown",
   "metadata": {},
   "source": [
    "As our target variable, I'll be converting the genre column into numbers so that a neural net can deal with it."
   ]
  },
  {
   "cell_type": "code",
   "execution_count": 69,
   "metadata": {},
   "outputs": [
    {
     "name": "stdout",
     "output_type": "stream",
     "text": [
      "['pop' 'country' 'blues' 'jazz' 'reggae' 'rock' 'hip hop']\n",
      "[0 1 2 3 4 5 6]\n"
     ]
    },
    {
     "data": {
      "text/html": [
       "<div>\n",
       "<style scoped>\n",
       "    .dataframe tbody tr th:only-of-type {\n",
       "        vertical-align: middle;\n",
       "    }\n",
       "\n",
       "    .dataframe tbody tr th {\n",
       "        vertical-align: top;\n",
       "    }\n",
       "\n",
       "    .dataframe thead th {\n",
       "        text-align: right;\n",
       "    }\n",
       "</style>\n",
       "<table border=\"1\" class=\"dataframe\">\n",
       "  <thead>\n",
       "    <tr style=\"text-align: right;\">\n",
       "      <th></th>\n",
       "      <th>Unnamed: 0</th>\n",
       "      <th>artist_name</th>\n",
       "      <th>track_name</th>\n",
       "      <th>release_date</th>\n",
       "      <th>genre</th>\n",
       "      <th>lyrics</th>\n",
       "      <th>len</th>\n",
       "      <th>dating</th>\n",
       "      <th>violence</th>\n",
       "      <th>world/life</th>\n",
       "      <th>...</th>\n",
       "      <th>sadness</th>\n",
       "      <th>feelings</th>\n",
       "      <th>danceability</th>\n",
       "      <th>loudness</th>\n",
       "      <th>acousticness</th>\n",
       "      <th>instrumentalness</th>\n",
       "      <th>valence</th>\n",
       "      <th>energy</th>\n",
       "      <th>topic</th>\n",
       "      <th>age</th>\n",
       "    </tr>\n",
       "  </thead>\n",
       "  <tbody>\n",
       "    <tr>\n",
       "      <th>0</th>\n",
       "      <td>0</td>\n",
       "      <td>mukesh</td>\n",
       "      <td>mohabbat bhi jhoothi</td>\n",
       "      <td>1950</td>\n",
       "      <td>0</td>\n",
       "      <td>hold time feel break feel untrue convince spea...</td>\n",
       "      <td>95</td>\n",
       "      <td>0.000598</td>\n",
       "      <td>0.063746</td>\n",
       "      <td>0.000598</td>\n",
       "      <td>...</td>\n",
       "      <td>0.380299</td>\n",
       "      <td>0.117175</td>\n",
       "      <td>0.357739</td>\n",
       "      <td>0.454119</td>\n",
       "      <td>0.997992</td>\n",
       "      <td>0.901822</td>\n",
       "      <td>0.339448</td>\n",
       "      <td>0.137110</td>\n",
       "      <td>sadness</td>\n",
       "      <td>1.0</td>\n",
       "    </tr>\n",
       "    <tr>\n",
       "      <th>1</th>\n",
       "      <td>4</td>\n",
       "      <td>frankie laine</td>\n",
       "      <td>i believe</td>\n",
       "      <td>1950</td>\n",
       "      <td>0</td>\n",
       "      <td>believe drop rain fall grow believe darkest ni...</td>\n",
       "      <td>51</td>\n",
       "      <td>0.035537</td>\n",
       "      <td>0.096777</td>\n",
       "      <td>0.443435</td>\n",
       "      <td>...</td>\n",
       "      <td>0.001284</td>\n",
       "      <td>0.001284</td>\n",
       "      <td>0.331745</td>\n",
       "      <td>0.647540</td>\n",
       "      <td>0.954819</td>\n",
       "      <td>0.000002</td>\n",
       "      <td>0.325021</td>\n",
       "      <td>0.263240</td>\n",
       "      <td>world/life</td>\n",
       "      <td>1.0</td>\n",
       "    </tr>\n",
       "    <tr>\n",
       "      <th>2</th>\n",
       "      <td>6</td>\n",
       "      <td>johnnie ray</td>\n",
       "      <td>cry</td>\n",
       "      <td>1950</td>\n",
       "      <td>0</td>\n",
       "      <td>sweetheart send letter goodbye secret feel bet...</td>\n",
       "      <td>24</td>\n",
       "      <td>0.002770</td>\n",
       "      <td>0.002770</td>\n",
       "      <td>0.002770</td>\n",
       "      <td>...</td>\n",
       "      <td>0.002770</td>\n",
       "      <td>0.225422</td>\n",
       "      <td>0.456298</td>\n",
       "      <td>0.585288</td>\n",
       "      <td>0.840361</td>\n",
       "      <td>0.000000</td>\n",
       "      <td>0.351814</td>\n",
       "      <td>0.139112</td>\n",
       "      <td>music</td>\n",
       "      <td>1.0</td>\n",
       "    </tr>\n",
       "  </tbody>\n",
       "</table>\n",
       "<p>3 rows × 31 columns</p>\n",
       "</div>"
      ],
      "text/plain": [
       "   Unnamed: 0    artist_name            track_name  release_date  genre  \\\n",
       "0           0         mukesh  mohabbat bhi jhoothi          1950      0   \n",
       "1           4  frankie laine             i believe          1950      0   \n",
       "2           6    johnnie ray                   cry          1950      0   \n",
       "\n",
       "                                              lyrics  len    dating  violence  \\\n",
       "0  hold time feel break feel untrue convince spea...   95  0.000598  0.063746   \n",
       "1  believe drop rain fall grow believe darkest ni...   51  0.035537  0.096777   \n",
       "2  sweetheart send letter goodbye secret feel bet...   24  0.002770  0.002770   \n",
       "\n",
       "   world/life  ...   sadness  feelings  danceability  loudness  acousticness  \\\n",
       "0    0.000598  ...  0.380299  0.117175      0.357739  0.454119      0.997992   \n",
       "1    0.443435  ...  0.001284  0.001284      0.331745  0.647540      0.954819   \n",
       "2    0.002770  ...  0.002770  0.225422      0.456298  0.585288      0.840361   \n",
       "\n",
       "   instrumentalness   valence    energy       topic  age  \n",
       "0          0.901822  0.339448  0.137110     sadness  1.0  \n",
       "1          0.000002  0.325021  0.263240  world/life  1.0  \n",
       "2          0.000000  0.351814  0.139112       music  1.0  \n",
       "\n",
       "[3 rows x 31 columns]"
      ]
     },
     "execution_count": 69,
     "metadata": {},
     "output_type": "execute_result"
    }
   ],
   "source": [
    "print(df[\"genre\"].unique())\n",
    "\n",
    "genres = {'pop': 0, 'country': 1, 'blues': 2, 'jazz': 3, 'reggae': 4, 'rock': 5, 'hip hop': 6}\n",
    "df[\"genre\"] = df[\"genre\"].apply(genres.get)\n",
    "\n",
    "# check to make sure all the genres were successfully converted to numbers\n",
    "print(df[\"genre\"].unique())\n",
    "\n",
    "df.head(3)"
   ]
  },
  {
   "cell_type": "code",
   "execution_count": 60,
   "metadata": {},
   "outputs": [
    {
     "data": {
      "text/plain": [
       "genre\n",
       "0    0.248202\n",
       "1    0.191915\n",
       "2    0.162273\n",
       "3    0.135521\n",
       "4    0.088045\n",
       "5    0.142182\n",
       "6    0.031862\n",
       "dtype: float64"
      ]
     },
     "execution_count": 60,
     "metadata": {},
     "output_type": "execute_result"
    }
   ],
   "source": [
    "df.groupby(\"genre\").size() / len(df)"
   ]
  },
  {
   "cell_type": "markdown",
   "metadata": {},
   "source": [
    "Looks like if we guess genre 0 (pop) every time, we will get a base accuracy of 24.8%. Let's see if we an do better than this. Since we're going to start out using just the lyrics for classification, I'm going to go ahead and vectorize those."
   ]
  },
  {
   "cell_type": "code",
   "execution_count": 6,
   "metadata": {},
   "outputs": [],
   "source": [
    "from torch.utils.data import Dataset, DataLoader\n",
    "\n",
    "class TextDataFromDF(Dataset):\n",
    "    def __init__(self, df):\n",
    "        self.df = df\n",
    "    \n",
    "    # returns the target, lyrics, and features separately\n",
    "    def __getitem__(self, index):\n",
    "        target = self.df['genre'].iloc[index]\n",
    "        lyrics = self.df['lyrics'].iloc[index]\n",
    "        features = self.df[engineered_features].iloc[index]\n",
    "        return target, lyrics, features\n",
    "\n",
    "    def __len__(self):\n",
    "        return len(self.df)                "
   ]
  },
  {
   "cell_type": "code",
   "execution_count": 7,
   "metadata": {},
   "outputs": [],
   "source": [
    "from sklearn.model_selection import train_test_split\n",
    "\n",
    "df_train, df_val = train_test_split(df, shuffle = True, test_size = 0.2)\n",
    "train_data = TextDataFromDF(df_train)\n",
    "val_data   = TextDataFromDF(df_val)"
   ]
  },
  {
   "cell_type": "markdown",
   "metadata": {},
   "source": [
    "Here's a sample of what one piece of data looks like:"
   ]
  },
  {
   "cell_type": "code",
   "execution_count": 8,
   "metadata": {},
   "outputs": [
    {
     "data": {
      "text/plain": [
       "(4,\n",
       " 'ballistic affair ballistic affair lick chalice cook ital play football cricket brother true rest jungle block rema fight gainst brother right sister live yeah throw throw knife unite live fear ballistic affair true black outta east rest come best ballistic affair tell brother ballistic affair ballistic affair tell sister ballistic affair throw throw knife unite live fear ballistic affair true black outta east rest come best ballistic affair tell brother ballistic affair ballistic affair tell sister ballistic affair ballistic affair ballistic affair throw throw knife unite throw throw knife unite hear brother',\n",
       " dating                      0.001144\n",
       " violence                    0.172638\n",
       " world/life                  0.181385\n",
       " night/time                  0.001144\n",
       " shake the audience          0.024042\n",
       " family/gospel               0.183652\n",
       " romantic                    0.001144\n",
       " communication               0.092167\n",
       " obscene                     0.331242\n",
       " music                       0.001144\n",
       " movement/places             0.001144\n",
       " light/visual perceptions    0.001144\n",
       " family/spiritual            0.001144\n",
       " like/girls                  0.001144\n",
       " sadness                     0.001144\n",
       " feelings                    0.001144\n",
       " danceability                0.893859\n",
       " loudness                    0.423173\n",
       " acousticness                0.426706\n",
       " instrumentalness            0.000052\n",
       " valence                     0.862943\n",
       " energy                      0.293271\n",
       " Name: 21143, dtype: float64)"
      ]
     },
     "execution_count": 8,
     "metadata": {},
     "output_type": "execute_result"
    }
   ],
   "source": [
    "train_data[193]"
   ]
  },
  {
   "cell_type": "code",
   "execution_count": 35,
   "metadata": {},
   "outputs": [],
   "source": [
    "from torchtext.data.utils import get_tokenizer\n",
    "from torchtext.vocab import build_vocab_from_iterator\n",
    "\n",
    "tokenizer = get_tokenizer('basic_english')\n",
    "\n",
    "tokenized = tokenizer(train_data[193][1])"
   ]
  },
  {
   "cell_type": "code",
   "execution_count": 10,
   "metadata": {},
   "outputs": [],
   "source": [
    "def yield_tokens(data_iter):\n",
    "    for target, text, _ in data_iter:\n",
    "        yield tokenizer(text)\n",
    "\n",
    "vocab = build_vocab_from_iterator(yield_tokens(train_data), specials=[\"<unk>\"], min_freq = 50)\n",
    "vocab.set_default_index(vocab[\"<unk>\"])"
   ]
  },
  {
   "cell_type": "code",
   "execution_count": 11,
   "metadata": {},
   "outputs": [],
   "source": [
    "import torch\n",
    "\n",
    "num_tokens = len(vocab.get_itos())\n",
    "max_len = 30\n",
    "\n",
    "# converts text (like lyrics!) into numbers (which a neural net can use!)\n",
    "def text_pipeline(x):\n",
    "    tokens = vocab(tokenizer(x))\n",
    "    y = torch.zeros(max_len, dtype=torch.int64) + num_tokens\n",
    "    if len(tokens) > max_len:\n",
    "        tokens = tokens[0:max_len]\n",
    "    y[0:len(tokens)] = torch.tensor(tokens,dtype=torch.int64)\n",
    "    return y\n",
    "\n",
    "label_pipeline = lambda x: int(x)"
   ]
  },
  {
   "cell_type": "code",
   "execution_count": 12,
   "metadata": {},
   "outputs": [],
   "source": [
    "import numpy as np\n",
    "\n",
    "def collate_batch(batch):\n",
    "    target_label_list = []\n",
    "    lyric_text_list = []\n",
    "    features_list = []  \n",
    "\n",
    "    for (_targets, _lyrics, _features) in batch:\n",
    "        # process targets\n",
    "        target_label_list.append(label_pipeline(_targets))\n",
    "\n",
    "        # process lyrics\n",
    "        processed_lyrics = text_pipeline(_lyrics)\n",
    "        lyric_text_list.append(processed_lyrics)\n",
    "\n",
    "        # process features\n",
    "        features_list.append(_features.to_numpy())\n",
    "\n",
    "    # turn it all into tensors\n",
    "    target_label_list = torch.tensor(target_label_list, dtype=(torch.int64))\n",
    "    lyric_text_list = torch.stack(lyric_text_list)\n",
    "    features_list = torch.tensor((features_list), dtype=torch.float64)\n",
    "\n",
    "    return target_label_list, lyric_text_list, features_list"
   ]
  },
  {
   "cell_type": "code",
   "execution_count": 13,
   "metadata": {},
   "outputs": [],
   "source": [
    "#train set and validation set\n",
    "train_loader = DataLoader(train_data, batch_size=8, shuffle=True, collate_fn=collate_batch)\n",
    "val_loader = DataLoader(val_data, batch_size=8, shuffle=True, collate_fn=collate_batch)"
   ]
  },
  {
   "cell_type": "code",
   "execution_count": 14,
   "metadata": {},
   "outputs": [
    {
     "name": "stderr",
     "output_type": "stream",
     "text": [
      "C:\\Users\\Zoe Greenwald\\AppData\\Local\\Temp\\ipykernel_22856\\3029876209.py:21: UserWarning: Creating a tensor from a list of numpy.ndarrays is extremely slow. Please consider converting the list to a single numpy.ndarray with numpy.array() before converting to a tensor. (Triggered internally at C:\\cb\\pytorch_1000000000000\\work\\torch\\csrc\\utils\\tensor_new.cpp:278.)\n",
      "  features_list = torch.tensor((features_list), dtype=torch.float64)\n"
     ]
    },
    {
     "data": {
      "text/plain": [
       "(tensor([2, 3, 0, 0, 3, 0, 0, 5]),\n",
       " tensor([[  18,   18,   49,   49,   49,   49,  127,  178,   18,  108,   49,   49,\n",
       "            49,   49,  655,    6,   77,    6,    6,   24,   18,   49,   49,   49,\n",
       "            49,   49,   18,   18, 2911, 2911],\n",
       "         [  21,    5,  334,    5,   21,    5,  334, 2911, 2911, 2911, 2911, 2911,\n",
       "          2911, 2911, 2911, 2911, 2911, 2911, 2911, 2911, 2911, 2911, 2911, 2911,\n",
       "          2911, 2911, 2911, 2911, 2911, 2911],\n",
       "         [ 666,   28,  666,   29,  247, 1755,  151,   14,  629,  255,   41,    7,\n",
       "           255,   41,    7,  171,  141,    1,   29,    1,  666,  108,   14,  629,\n",
       "           255,   41,    7,  255,   41,    7],\n",
       "         [1259, 2404,  598,  474,   48, 2759,  462, 2404,   50,  457,    0,  283,\n",
       "           224,  387,  472,   17,  790,  433,  677,  801,    0,  339,   31,   37,\n",
       "            31,    0,   76,   27,  239,   18],\n",
       "         [ 519,  276,  394,  519,  904,    6,  519,    0,  932,    0,  460, 2584,\n",
       "          1003,  550,    0,    1, 1545,  121,   18,  519,    0,  394,  519,  877,\n",
       "            32,  990,  292, 1035,   11, 1109],\n",
       "         [ 248,  229,  428,  206,   49, 1104,  892,   17,   10,   91,    0,   10,\n",
       "             1, 1266,  493,   34,   26,  167,   98,    5,   90,  309,   20,  175,\n",
       "             3,    4,  352,   28,  289,  214],\n",
       "         [  25,  456,  456,  456,    6,    4,  456,   20,    6,  131,  456,  182,\n",
       "           154,    6, 2353,   55,   52,   28,   25,  456,  456,  456,    6,    4,\n",
       "           456,   20,    6,  131,  456,  182],\n",
       "         [ 155,    6,  120,  473,   16,   16,    1,    1,    1,   48,   23,   16,\n",
       "            90,   16,  152,   39,   74,    0,  136,   16,   16,   48,   23,   16,\n",
       "            90,   16, 2911, 2911, 2911, 2911]]),\n",
       " tensor([[1.8149e-03, 1.8149e-03, 4.4747e-01, 1.8149e-03, 1.8149e-03, 1.8149e-03,\n",
       "          1.8149e-03, 3.2864e-01, 1.8149e-03, 1.8149e-03, 1.8149e-03, 1.8149e-03,\n",
       "          1.8149e-03, 1.8149e-03, 1.9484e-01, 1.8149e-03, 2.4727e-01, 6.6808e-01,\n",
       "          9.7189e-01, 5.5061e-06, 2.7453e-01, 2.9527e-01],\n",
       "         [6.5789e-03, 6.5789e-03, 6.5789e-03, 2.4702e-01, 6.5789e-03, 6.5789e-03,\n",
       "          6.5789e-03, 2.6824e-01, 6.5789e-03, 6.5789e-03, 6.5789e-03, 6.5789e-03,\n",
       "          6.5789e-03, 6.5789e-03, 6.5789e-03, 3.7947e-01, 7.6389e-01, 4.4422e-01,\n",
       "          9.2269e-01, 8.4008e-01, 6.3829e-01, 2.5824e-01],\n",
       "         [1.1962e-03, 4.8448e-02, 1.1962e-03, 5.5294e-02, 1.1962e-03, 1.1962e-03,\n",
       "          1.1962e-03, 1.9763e-01, 1.1962e-03, 1.1962e-03, 1.1962e-03, 1.1962e-03,\n",
       "          1.1962e-03, 1.1962e-03, 6.0631e-01, 1.1962e-03, 4.3789e-01, 8.2653e-01,\n",
       "          1.1344e-02, 4.7166e-03, 4.9093e-01, 9.7898e-01],\n",
       "         [7.9745e-04, 7.9745e-04, 3.3189e-02, 7.9745e-04, 7.9745e-04, 1.3136e-01,\n",
       "          4.1652e-01, 7.9745e-04, 7.9745e-04, 6.9069e-02, 7.9745e-04, 2.3674e-01,\n",
       "          7.9745e-04, 7.9745e-04, 7.9745e-04, 7.9745e-04, 3.8048e-01, 5.7737e-01,\n",
       "          7.9418e-01, 1.5182e-06, 3.3533e-01, 3.1329e-01],\n",
       "         [1.4620e-03, 5.4061e-01, 1.4620e-03, 6.6774e-02, 1.4620e-03, 1.4620e-03,\n",
       "          1.4620e-03, 1.4620e-03, 1.9349e-01, 1.4620e-03, 1.4620e-03, 1.4620e-03,\n",
       "          1.4620e-03, 9.5524e-02, 8.3130e-02, 1.4620e-03, 5.2345e-01, 5.7729e-01,\n",
       "          7.8414e-01, 0.0000e+00, 5.9398e-01, 3.6034e-01],\n",
       "         [7.4000e-02, 8.6958e-02, 4.0347e-01, 1.0971e-01, 1.0741e-03, 1.0741e-03,\n",
       "          1.0741e-03, 1.0742e-03, 1.1433e-01, 3.5531e-02, 1.1523e-01, 1.0741e-03,\n",
       "          2.3605e-02, 1.0741e-03, 1.0741e-03, 2.6443e-02, 4.6388e-01, 6.6413e-01,\n",
       "          2.1385e-01, 7.8543e-05, 4.4456e-01, 3.9738e-01],\n",
       "         [3.3501e-02, 1.3850e-03, 1.3850e-03, 1.3850e-03, 2.8108e-02, 1.3850e-03,\n",
       "          1.3850e-03, 1.3850e-03, 1.3850e-03, 1.3850e-03, 1.3850e-03, 1.3850e-03,\n",
       "          1.3850e-03, 1.3850e-03, 9.1623e-01, 1.3850e-03, 2.4402e-01, 6.3190e-01,\n",
       "          8.0422e-01, 1.8117e-05, 4.1467e-01, 3.9337e-01],\n",
       "         [2.0243e-03, 4.6580e-02, 7.6299e-01, 2.0243e-03, 2.0243e-03, 2.0243e-03,\n",
       "          2.0243e-03, 7.0791e-02, 2.0243e-03, 2.0243e-03, 2.0243e-03, 2.0243e-03,\n",
       "          2.0243e-03, 2.0243e-03, 5.0386e-02, 2.0243e-03, 3.6315e-01, 5.2188e-01,\n",
       "          2.7410e-01, 1.0931e-04, 1.7045e-01, 3.6835e-01]], dtype=torch.float64))"
      ]
     },
     "execution_count": 14,
     "metadata": {},
     "output_type": "execute_result"
    }
   ],
   "source": [
    "next(iter(train_loader))"
   ]
  },
  {
   "cell_type": "markdown",
   "metadata": {},
   "source": [
    "Ok - happy to see that everything was successfully vectorized. Now we can go for model building.\n",
    "#### Experiment 1: Just the Lyrics\n",
    "Now that I've vectorized all the lyrics, its time to do some deep learning. I'm going to start out by using a model that learns from only the lyrics."
   ]
  },
  {
   "cell_type": "code",
   "execution_count": 15,
   "metadata": {},
   "outputs": [],
   "source": [
    "from torch import nn\n",
    "\n",
    "class LyricsNet(nn.Module):\n",
    "    def __init__(self, vocab_size, embedding_dim, max_len, num_class, dropout_p):\n",
    "        super().__init__()\n",
    "        self.embedding = nn.Embedding(vocab_size+1, embedding_dim)\n",
    "        self.dropout = nn.Dropout(dropout_p)\n",
    "        self.fc = nn.Linear(embedding_dim, num_class)\n",
    "\n",
    "    def forward(self, x):\n",
    "        x = self.embedding(x)\n",
    "        x = self.dropout(x)\n",
    "        x = x.mean(axis = 1)\n",
    "        x = self.fc(x)\n",
    "        x = self.dropout(x)\n",
    "        return(x)"
   ]
  },
  {
   "cell_type": "code",
   "execution_count": 16,
   "metadata": {},
   "outputs": [],
   "source": [
    "vocab_size = len(vocab)\n",
    "embedding_dim = 3\n",
    "num_class = 7\n",
    "dropout_p = 0.2\n",
    "max_len = 150\n",
    "lyrics_model = LyricsNet(vocab_size, embedding_dim, max_len, num_class, dropout_p)\n",
    "\n",
    "optimizer = torch.optim.Adam(lyrics_model.parameters(), lr = 0.1)\n",
    "loss_fn = torch.nn.CrossEntropyLoss()"
   ]
  },
  {
   "cell_type": "code",
   "execution_count": 31,
   "metadata": {},
   "outputs": [],
   "source": [
    "import time\n",
    "\n",
    "def train(model, dataloader, d_type):\n",
    "    epoch_start_time = time.time()\n",
    "    # keep track of some counts for measuring accuracy\n",
    "    total_acc, total_count = 0, 0\n",
    "\n",
    "    for idx, (label, text, features) in enumerate(dataloader):\n",
    "        # zero gradients\n",
    "        optimizer.zero_grad()\n",
    "\n",
    "        if d_type == 'lyrics':\n",
    "            input_data = text\n",
    "        elif d_type == 'features':\n",
    "            input_data = features\n",
    "        else:  \n",
    "            # both lyrics and features\n",
    "            input_data = (text.int(), features.float())\n",
    "\n",
    "        # form prediction on batch\n",
    "        predicted_label = model(input_data)\n",
    "\n",
    "        # evaluate loss on prediction\n",
    "        loss = loss_fn(predicted_label, label)\n",
    "        # compute gradient\n",
    "        loss.backward()\n",
    "        # take an optimization step\n",
    "        optimizer.step()\n",
    "\n",
    "        # for printing accuracy\n",
    "        total_acc   += (predicted_label.argmax(1) == label).sum().item()\n",
    "        total_count += label.size(0)\n",
    "        \n",
    "    print(f'| epoch {epoch:3d} | train accuracy {total_acc/total_count:8.3f} | time: {time.time() - epoch_start_time:5.2f}s')\n",
    "    \n",
    "def evaluate(model, dataloader, d_type):\n",
    "\n",
    "    total_acc, total_count = 0, 0\n",
    "\n",
    "    with torch.no_grad():\n",
    "        for idx, (label, text, features) in enumerate(dataloader):\n",
    "\n",
    "            if d_type == 'lyrics':\n",
    "                input_data = text\n",
    "            elif d_type == 'features':\n",
    "                input_data = features\n",
    "            else:  \n",
    "                # both lyrics and features\n",
    "                input_data = (text.int(), features.float())\n",
    "\n",
    "            predicted_label = model(input_data)\n",
    "            total_acc += (predicted_label.argmax(1) == label).sum().item()\n",
    "            total_count += label.size(0)\n",
    "    return total_acc/total_count"
   ]
  },
  {
   "cell_type": "code",
   "execution_count": 18,
   "metadata": {},
   "outputs": [
    {
     "name": "stdout",
     "output_type": "stream",
     "text": [
      "| epoch   1 | train accuracy    0.267 | time: 42.29s\n",
      "| epoch   2 | train accuracy    0.310 | time: 41.89s\n",
      "| epoch   3 | train accuracy    0.327 | time: 42.09s\n",
      "| epoch   4 | train accuracy    0.335 | time: 42.10s\n",
      "| epoch   5 | train accuracy    0.343 | time: 42.28s\n",
      "| epoch   6 | train accuracy    0.345 | time: 42.29s\n",
      "| epoch   7 | train accuracy    0.349 | time: 42.23s\n",
      "| epoch   8 | train accuracy    0.353 | time: 42.07s\n",
      "| epoch   9 | train accuracy    0.353 | time: 42.22s\n",
      "| epoch  10 | train accuracy    0.351 | time: 42.10s\n"
     ]
    }
   ],
   "source": [
    "EPOCHS = 10\n",
    "for epoch in range(1, EPOCHS + 1):\n",
    "    train(lyrics_model, train_loader, 'lyrics')"
   ]
  },
  {
   "cell_type": "markdown",
   "metadata": {},
   "source": [
    "Alright nice - solidly 10% above the base rate. We take what we can get."
   ]
  },
  {
   "cell_type": "code",
   "execution_count": 19,
   "metadata": {},
   "outputs": [
    {
     "data": {
      "text/plain": [
       "0.29427312775330394"
      ]
     },
     "execution_count": 19,
     "metadata": {},
     "output_type": "execute_result"
    }
   ],
   "source": [
    "evaluate(lyrics_model, val_loader, 'lyrics')"
   ]
  },
  {
   "cell_type": "markdown",
   "metadata": {},
   "source": [
    "And we're passing on the validation data too! Looks like there is definitely some merit to categorizing music into genres based on lyrics. Let's check out whether this applies to the engineered features as well.\n",
    "#### Experiment 2: Engineered Features\n",
    "Now we're going to give it a shot with just the engineered features. It'll be interesting to compare the two results."
   ]
  },
  {
   "cell_type": "code",
   "execution_count": 20,
   "metadata": {},
   "outputs": [],
   "source": [
    "import torch.nn as nn\n",
    "\n",
    "class FeaturesNet(nn.Module):\n",
    "    def __init__(self, input_size, num_class):\n",
    "        super().__init__()\n",
    "        self.model = nn.Sequential(\n",
    "            nn.Linear(input_size, 256),\n",
    "            nn.ReLU(),\n",
    "            nn.Linear(256, 128),\n",
    "            nn.ReLU(),\n",
    "            nn.Linear(128, 64),\n",
    "            nn.ReLU(),\n",
    "            nn.Linear(64, 32),\n",
    "            nn.ReLU(),\n",
    "            nn.MaxPool1d(2),\n",
    "            nn.Linear(16, num_class),\n",
    "            nn.Softmax(dim = 1)\n",
    "        )\n",
    "\n",
    "\n",
    "    def forward(self, x):\n",
    "        x = x.float()\n",
    "        x = torch.flatten(x, 1)\n",
    "        x = self.model(x)\n",
    "        return x"
   ]
  },
  {
   "cell_type": "code",
   "execution_count": 21,
   "metadata": {},
   "outputs": [],
   "source": [
    "input_size = 22\n",
    "features_model = FeaturesNet(input_size, num_class)\n",
    "\n",
    "optimizer = torch.optim.Adam(features_model.parameters(), lr = 0.0001)\n",
    "loss_fn = torch.nn.CrossEntropyLoss()"
   ]
  },
  {
   "cell_type": "code",
   "execution_count": 22,
   "metadata": {},
   "outputs": [
    {
     "name": "stdout",
     "output_type": "stream",
     "text": [
      "| epoch   1 | train accuracy    0.268 | time: 45.91s\n",
      "| epoch   2 | train accuracy    0.315 | time: 46.12s\n",
      "| epoch   3 | train accuracy    0.340 | time: 46.45s\n",
      "| epoch   4 | train accuracy    0.343 | time: 46.13s\n",
      "| epoch   5 | train accuracy    0.345 | time: 46.19s\n",
      "| epoch   6 | train accuracy    0.347 | time: 46.20s\n",
      "| epoch   7 | train accuracy    0.348 | time: 46.38s\n",
      "| epoch   8 | train accuracy    0.350 | time: 46.12s\n",
      "| epoch   9 | train accuracy    0.350 | time: 46.20s\n",
      "| epoch  10 | train accuracy    0.350 | time: 46.43s\n"
     ]
    }
   ],
   "source": [
    "EPOCHS = 10\n",
    "for epoch in range(1, EPOCHS + 1):\n",
    "    train(features_model, train_loader, 'features')"
   ]
  },
  {
   "cell_type": "markdown",
   "metadata": {},
   "source": [
    "Wow, almost exactly the same as lyrics! Still 10% better than the base rate."
   ]
  },
  {
   "cell_type": "code",
   "execution_count": 23,
   "metadata": {},
   "outputs": [
    {
     "data": {
      "text/plain": [
       "0.34149779735682817"
      ]
     },
     "execution_count": 23,
     "metadata": {},
     "output_type": "execute_result"
    }
   ],
   "source": [
    "evaluate(features_model, val_loader, 'features')"
   ]
  },
  {
   "cell_type": "markdown",
   "metadata": {},
   "source": [
    "It looks like it held up a lot better on the validation set, maintaining abut 10% better than the base rate, so maybe using the engineered features can help avoid overfitting."
   ]
  },
  {
   "cell_type": "markdown",
   "metadata": {},
   "source": [
    "#### Experiment 3: Lyrics and Features\n",
    "Let's see what happens if we combine both the lyrics and the features in one neural net."
   ]
  },
  {
   "cell_type": "code",
   "execution_count": 32,
   "metadata": {},
   "outputs": [],
   "source": [
    "class CombinedNet(nn.Module):\n",
    "    \n",
    "    def __init__(self, vocab_size, embedding_dim, input_size, num_class):\n",
    "        super().__init__()\n",
    "\n",
    "        self.embedding = nn.Embedding(vocab_size+1, embedding_dim)\n",
    "        self.text_fc = nn.Linear(embedding_dim, 64)\n",
    "\n",
    "        self.feature_fc = nn.Linear(input_size, 64)\n",
    "\n",
    "        self.combine_fc = nn.Linear(9664, 32)\n",
    "        self.output_fc = nn.Linear(32, num_class)\n",
    "    \n",
    "    def forward(self, x):\n",
    "        x_1, x_2 = x\n",
    "\n",
    "        # text pipeline: try embedding! \n",
    "        x_1 = self.embedding(x_1)\n",
    "        x_1 = x_1.float()\n",
    "        x_1 = self.text_fc(x_1)\n",
    "        x_1 = torch.flatten(x_1, 1)\n",
    "\n",
    "        # engineered features: fully-connected Linear layers are fine\n",
    "        x_2 = self.feature_fc(x_2)\n",
    "\n",
    "        # ensure that both x_1 and x_2 are 2-d tensors, flattening if necessary\n",
    "        # then, combine them with: \n",
    "        combo = torch.cat((x_1, x_2), 1)\n",
    "\n",
    "        # pass x through a couple more fully-connected layers and return output\n",
    "        combo = self.combine_fc(combo)\n",
    "        output = self.output_fc(combo)\n",
    "\n",
    "        return output"
   ]
  },
  {
   "cell_type": "code",
   "execution_count": 33,
   "metadata": {},
   "outputs": [],
   "source": [
    "input_size = 22\n",
    "vocab_size = len(vocab)\n",
    "embedding_dim = 3\n",
    "num_class = 7\n",
    "combined_model = CombinedNet(vocab_size, embedding_dim, input_size, num_class)\n",
    "\n",
    "optimizer = torch.optim.Adam(combined_model.parameters(), lr = 0.0001)\n",
    "loss_fn = torch.nn.CrossEntropyLoss()"
   ]
  },
  {
   "cell_type": "code",
   "execution_count": 34,
   "metadata": {},
   "outputs": [
    {
     "name": "stdout",
     "output_type": "stream",
     "text": [
      "| epoch   1 | train accuracy    0.246 | time: 50.05s\n",
      "| epoch   2 | train accuracy    0.301 | time: 48.55s\n",
      "| epoch   3 | train accuracy    0.327 | time: 51.65s\n",
      "| epoch   4 | train accuracy    0.344 | time: 51.23s\n",
      "| epoch   5 | train accuracy    0.355 | time: 48.90s\n",
      "| epoch   6 | train accuracy    0.364 | time: 50.54s\n",
      "| epoch   7 | train accuracy    0.371 | time: 54.80s\n",
      "| epoch   8 | train accuracy    0.373 | time: 55.53s\n",
      "| epoch   9 | train accuracy    0.380 | time: 52.73s\n",
      "| epoch  10 | train accuracy    0.381 | time: 54.73s\n"
     ]
    }
   ],
   "source": [
    "EPOCHS = 10\n",
    "for epoch in range(1, EPOCHS + 1):\n",
    "    train(combined_model, train_loader, 'both')"
   ]
  },
  {
   "cell_type": "markdown",
   "metadata": {},
   "source": [
    "Alright - 14% better than the base rate. That's the best accuracy we've seen yet."
   ]
  },
  {
   "cell_type": "code",
   "execution_count": null,
   "metadata": {},
   "outputs": [
    {
     "data": {
      "text/plain": [
       "0.35577092511013214"
      ]
     },
     "execution_count": 78,
     "metadata": {},
     "output_type": "execute_result"
    }
   ],
   "source": [
    "evaluate(combined_model, val_loader, 'both')"
   ]
  },
  {
   "cell_type": "markdown",
   "metadata": {},
   "source": [
    "A quick reminder that the base rate here is 24.8%, which means... we're doing awesome! 10% over the base rate is definitely a success, that means we can do substantially better than if we were to guess the most frequently occurring category every time. Although it was only a bit better than the models just using the lyrics or the model just using the features (~1% on the validation set and 3% on the training set), I think it makes sense that performance was overall improved. \n",
    "#### Some interesting visualizations"
   ]
  },
  {
   "cell_type": "code",
   "execution_count": 53,
   "metadata": {},
   "outputs": [
    {
     "data": {
      "image/png": "[encoded data removed]",
      "text/plain": [
       "<Figure size 640x480 with 1 Axes>"
      ]
     },
     "metadata": {},
     "output_type": "display_data"
    }
   ],
   "source": [
    "from matplotlib import pyplot as plt \n",
    "\n",
    "danceability_over_time = df.groupby('release_date')['danceability'].mean()\n",
    "plt.plot(danceability_over_time.index, danceability_over_time.values)\n",
    "plt.xlabel('Year')\n",
    "plt.ylabel('Average Predicted Danceability')\n",
    "plt.title('Predicted Danceability of Pop Music Over Time')\n",
    "plt.show()"
   ]
  },
  {
   "cell_type": "markdown",
   "metadata": {},
   "source": [
    "Looks like music started out fairly danceable, suffered a danceability crisis in the mid 50's and since then has been improving steadily, to reaching the current maximum of 62% in 2020."
   ]
  },
  {
   "cell_type": "code",
   "execution_count": 70,
   "metadata": {},
   "outputs": [
    {
     "name": "stdout",
     "output_type": "stream",
     "text": [
      "          sadness    energy\n",
      "genre                      \n",
      "blues    0.113511  0.581534\n",
      "country  0.165922  0.466350\n",
      "hip hop  0.036589  0.703236\n",
      "jazz     0.124067  0.463430\n",
      "pop      0.142083  0.601097\n",
      "reggae   0.078312  0.589931\n",
      "rock     0.133539  0.700954\n"
     ]
    },
    {
     "data": {
      "image/png": "[encoded data removed]",
      "text/plain": [
       "<Figure size 1000x500 with 1 Axes>"
      ]
     },
     "metadata": {},
     "output_type": "display_data"
    },
    {
     "data": {
      "image/png": "[encoded data removed]",
      "text/plain": [
       "<Figure size 1000x500 with 1 Axes>"
      ]
     },
     "metadata": {},
     "output_type": "display_data"
    }
   ],
   "source": [
    "import matplotlib.pyplot as plt\n",
    "\n",
    "reverse_genres = {v: k for k, v in genres.items()}\n",
    "# Reverse the mapping in the 'genre' column\n",
    "df['genre'] = df['genre'].map(reverse_genres)\n",
    "\n",
    "genre_analysis = df.groupby('genre')[['sadness', 'energy']].mean()\n",
    "print(genre_analysis)\n",
    "\n",
    "# Plot average sadness scores\n",
    "plt.figure(figsize=(10, 5))\n",
    "genre_analysis['sadness'].sort_values().plot(kind='bar')\n",
    "plt.xlabel('Genre')\n",
    "plt.ylabel('Average Sadness')\n",
    "plt.title('Average Sadness by Genre')\n",
    "plt.show()\n",
    "\n",
    "# Plot average energy scores\n",
    "plt.figure(figsize=(10, 5))\n",
    "genre_analysis['energy'].sort_values().plot(kind='bar')\n",
    "plt.xlabel('Genre')\n",
    "plt.ylabel('Average Energy')\n",
    "plt.title('Average Energy by Genre')\n",
    "plt.show()"
   ]
  },
  {
   "cell_type": "markdown",
   "metadata": {},
   "source": [
    "Interestingly enough, blues is actually ranked on the lower end for sadness. Country takes the win on that one. For energy, rock and hip-hop at the upper end of the scale totally makes sense.\n",
    "\n",
    "Well, that's the deep learning blog post! This was something I was really excited about learning since last winter when I wasn't able to take the deep learning course. I'm very pleased I've finally had the chance to learn a bit about it. I've certainly enjoyed the absolute time sink of watching the epochs go by with my fingers crossed. I was a bit surprised that the features model performed better on the validation set than the lyrics model did - spotify clearly knew what it was doing by calculating those features. It did make sense that the combined model slightly outperformed either individual model on both the training set and the validation set, as it combined learning from the lyrics and features model. Finally, to speak about the interesting figures above, I was honestly not so surprised that the danceability of music has been increasing (the youth is a little obsessed with dancing). However, I was surprised to see how low blues ranked in terms of sadness. Same with hip-hop; although it might not be sadness in a spotify ranked way, I feel like there are often pretty dark themes in hip-hop.\n",
    "\n",
    "I definitely hope to learn more about deep learning in the future, and who knows, maybe one day I will finally make that deep learning model for chess."
   ]
  }
 ],
 "metadata": {
  "kernelspec": {
   "display_name": "ml-0451-2",
   "language": "python",
   "name": "python3"
  },
  "language_info": {
   "codemirror_mode": {
    "name": "ipython",
    "version": 3
   },
   "file_extension": ".py",
   "mimetype": "text/x-python",
   "name": "python",
   "nbconvert_exporter": "python",
   "pygments_lexer": "ipython3",
   "version": "3.9.18"
  }
 },
 "nbformat": 4,
 "nbformat_minor": 2
}
